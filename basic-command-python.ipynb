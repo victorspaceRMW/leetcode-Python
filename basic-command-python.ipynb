{
 "cells": [
  {
   "cell_type": "markdown",
   "metadata": {},
   "source": [
    "1. 判断和循环问题\n",
    "给出一个数字，判断该数字是否能被3和7整除。分为四种情况输出：\n",
    "a. 只可以被3整除\n",
    "b. 只可以被7整除\n",
    "c. 可以被3和7整除\n",
    "d. 不可以被3和7整除\n",
    "\n",
    "注意，else和elif的区别是elif后面一定要加判断条件，else是直接加“：”，不需要有判断条件。"
   ]
  },
  {
   "cell_type": "code",
   "execution_count": 1,
   "metadata": {},
   "outputs": [
    {
     "name": "stdout",
     "output_type": "stream",
     "text": [
      "可以被3和7整除\n"
     ]
    }
   ],
   "source": [
    "def judge(a):\n",
    "    if (a%3==0):\n",
    "        if (a%7==0):\n",
    "            return (\"可以被3和7整除\")\n",
    "        else:\n",
    "            return (\"只可以被3整除\")\n",
    "    elif(a%7==0):\n",
    "        return (\"只可以被7整除\")\n",
    "    else:\n",
    "        return (\"不可以被3和7整除\")\n",
    "print (judge(21))"
   ]
  },
  {
   "cell_type": "markdown",
   "metadata": {},
   "source": [
    "2. 迭代\n",
    "指的是每一次选定一个或几个数值作为输入，判断是否符合终止条件。之后然后反复对这些输入进行同一操作。得到结果。结果再返回去作为新的输入。注意，迭代也是一种软件工程开发的思路。“瀑布模型。”"
   ]
  },
  {
   "cell_type": "markdown",
   "metadata": {},
   "source": [
    "案例1：使用python求梯度下降。"
   ]
  },
  {
   "cell_type": "markdown",
   "metadata": {},
   "source": [
    "案例2：使用二分法求方程的解。"
   ]
  },
  {
   "cell_type": "markdown",
   "metadata": {},
   "source": [
    "3. 递归\n",
    "指的是程序反复调用自身来实现编程的一种方法。较为耗费电脑的内存资源，但是容易理解。"
   ]
  },
  {
   "cell_type": "markdown",
   "metadata": {},
   "source": [
    "案例1：使用递归法打印1-10"
   ]
  },
  {
   "cell_type": "code",
   "execution_count": 7,
   "metadata": {},
   "outputs": [
    {
     "name": "stdout",
     "output_type": "stream",
     "text": [
      "1\n",
      "2\n",
      "3\n",
      "4\n",
      "5\n",
      "6\n",
      "7\n",
      "8\n",
      "9\n",
      "10\n",
      "None\n"
     ]
    }
   ],
   "source": [
    "def print_dg(i):\n",
    "    print (i)\n",
    "    if (i<10):\n",
    "        return (print_dg(i+1))\n",
    "print(print_dg(1))"
   ]
  },
  {
   "cell_type": "markdown",
   "metadata": {},
   "source": [
    "案例2：使用递归法求解汉诺塔问题\n",
    "https://blog.csdn.net/hikobe8/article/details/50479669"
   ]
  },
  {
   "cell_type": "code",
   "execution_count": 12,
   "metadata": {},
   "outputs": [
    {
     "name": "stdout",
     "output_type": "stream",
     "text": [
      "a->c\n",
      "a->b\n",
      "c->b\n",
      "a->c\n",
      "b->a\n",
      "b->c\n",
      "a->c\n"
     ]
    }
   ],
   "source": [
    "def hanoi(n,a,b,c):\n",
    "    if (n==1):\n",
    "        print (a+\"->\"+c)\n",
    "    else:\n",
    "        hanoi(n-1,a,c,b)\n",
    "        hanoi(1,a,b,c)\n",
    "        hanoi(n-1,b,a,c)\n",
    "hanoi(3,\"a\",\"b\",\"c\")        "
   ]
  },
  {
   "cell_type": "code",
   "execution_count": null,
   "metadata": {},
   "outputs": [],
   "source": []
  }
 ],
 "metadata": {
  "kernelspec": {
   "display_name": "Python 3",
   "language": "python",
   "name": "python3"
  },
  "language_info": {
   "codemirror_mode": {
    "name": "ipython",
    "version": 3
   },
   "file_extension": ".py",
   "mimetype": "text/x-python",
   "name": "python",
   "nbconvert_exporter": "python",
   "pygments_lexer": "ipython3",
   "version": "3.7.0"
  }
 },
 "nbformat": 4,
 "nbformat_minor": 2
}
