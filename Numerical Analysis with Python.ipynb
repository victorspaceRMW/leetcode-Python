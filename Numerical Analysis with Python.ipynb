{
 "cells": [
  {
   "cell_type": "markdown",
   "metadata": {},
   "source": [
    "1. 用穷举法计算一个0或者正整数的平方根。"
   ]
  },
  {
   "cell_type": "code",
   "execution_count": 1,
   "metadata": {},
   "outputs": [
    {
     "name": "stdout",
     "output_type": "stream",
     "text": [
      "('The answer is:', 2)\n",
      "Error: there are no such a number\n",
      "Error: typein number wrong\n",
      "Error: typein number wrong\n"
     ]
    }
   ],
   "source": [
    "def sqrt2(x):\n",
    "    if ((x<0) or (isinstance(x,int)==False)):\n",
    "        return (\"Error: typein number wrong\")\n",
    "    else:\n",
    "        for i in range(x+1):\n",
    "            if (i**2==x):\n",
    "                return (\"The answer is:\",i)\n",
    "                break\n",
    "            elif (i==x):\n",
    "                return (\"Error: there are no such a number\")\n",
    "print (sqrt2(4))\n",
    "print (sqrt2(5))\n",
    "print (sqrt2(3.5))\n",
    "print (sqrt2(-4))"
   ]
  },
  {
   "cell_type": "markdown",
   "metadata": {},
   "source": [
    "1.1 用穷举法计算一个整数的立方根"
   ]
  },
  {
   "cell_type": "code",
   "execution_count": 4,
   "metadata": {},
   "outputs": [
    {
     "name": "stdout",
     "output_type": "stream",
     "text": [
      "Error: there are no such a number\n",
      "2\n",
      "-2\n",
      "Error: typein number wrong\n"
     ]
    }
   ],
   "source": [
    "def sqrt3(x):\n",
    "    if (isinstance(x,int)==False):\n",
    "        return (\"Error: typein number wrong\")\n",
    "    elif (x<0):\n",
    "        x=-x\n",
    "        for i in range(x+1):\n",
    "            if (i**3==x):\n",
    "                return (0-i)\n",
    "            elif (i==x):\n",
    "                return (\"Error: there are no such a number\")\n",
    "    else:\n",
    "        for i in range(x+1):\n",
    "            if (i**3==x):\n",
    "                return (i)\n",
    "            elif (i==x):\n",
    "                return (\"Error: there are no such a number\")\n",
    "print (sqrt3(9))\n",
    "print (sqrt3(8))\n",
    "print (sqrt3(-8))\n",
    "print (sqrt3(7.5))"
   ]
  },
  {
   "cell_type": "code",
   "execution_count": null,
   "metadata": {},
   "outputs": [],
   "source": [
    "2. 给你一串由数字组成的字符串，求他们的和"
   ]
  },
  {
   "cell_type": "code",
   "execution_count": 15,
   "metadata": {},
   "outputs": [
    {
     "name": "stdout",
     "output_type": "stream",
     "text": [
      "6.2\n"
     ]
    }
   ],
   "source": [
    "def sum_str(typein):\n",
    "    ans=0\n",
    "    if (isinstance(typein,str)==False):\n",
    "        return (\"Error: typein data structure wrong\")\n",
    "    else:\n",
    "        half_res=typein.split(\",\")\n",
    "        list_tosum=map(float,half_res)\n",
    "        return (sum(list_tosum))\n",
    "\n",
    "print (sum_str(\"1.2,2,3\"))"
   ]
  },
  {
   "cell_type": "markdown",
   "metadata": {},
   "source": [
    "3. 牛顿-拉弗森法\n",
    "牛顿证明了一个定理：\n",
    "guess是多项式的一个解。设P（guess）为一个多项式，P'（guess）是这个多项式的导数。则：\n",
    "guess-P(guess)/P'(guess)是一个更好的近似值。\n",
    "用此方法求接x**2-24=0的近似解。"
   ]
  },
  {
   "cell_type": "code",
   "execution_count": null,
   "metadata": {},
   "outputs": [],
   "source": [
    "def newton_raphson(prec):\n",
    "    ans=3\n",
    "    while(abs(ans*ans-24)>prec):\n",
    "        ans=ans-((ans*ans-24)/(2*ans))\n",
    "    return ans\n",
    "    \n",
    "print (newton_raphson(0.001))"
   ]
  },
  {
   "cell_type": "markdown",
   "metadata": {},
   "source": [
    "4. Helen算法（亚历山大的海伦提出 求解平方根的算法）"
   ]
  },
  {
   "cell_type": "code",
   "execution_count": 7,
   "metadata": {},
   "outputs": [
    {
     "name": "stdout",
     "output_type": "stream",
     "text": [
      "(2.8284271250498643, 5)\n"
     ]
    }
   ],
   "source": [
    "def helen_sqrt(num,prec):\n",
    "    ans=1\n",
    "    iteration=0\n",
    "    while(abs(ans*ans-num)>prec):\n",
    "        ans=((ans+num/ans)/2)\n",
    "        iteration=iteration+1\n",
    "    return (ans,iteration)\n",
    "\n",
    "print (helen_sqrt(8,0.00001))"
   ]
  },
  {
   "cell_type": "markdown",
   "metadata": {},
   "source": [
    " 5. 用二分法求解求解方程x**2-16=0在[0,10]上的解"
   ]
  },
  {
   "cell_type": "code",
   "execution_count": 5,
   "metadata": {},
   "outputs": [
    {
     "name": "stdout",
     "output_type": "stream",
     "text": [
      "2.5\n",
      "3.75\n",
      "4.375\n",
      "4.0625\n",
      "3.90625\n",
      "3.984375\n",
      "4.0234375\n",
      "4.00390625\n",
      "ans: 4.00390625\n"
     ]
    }
   ],
   "source": [
    "left=0\n",
    "right=10\n",
    "middle=(left+right)/2\n",
    "while(abs(middle**2-16)>0.1):\n",
    "    if (middle**2-16<0):\n",
    "        left=middle\n",
    "    else:\n",
    "        right=middle\n",
    "    middle=(right+left)/2\n",
    "    print (middle)\n",
    "print (\"ans:\",middle)"
   ]
  },
  {
   "cell_type": "code",
   "execution_count": null,
   "metadata": {},
   "outputs": [],
   "source": []
  }
 ],
 "metadata": {
  "kernelspec": {
   "display_name": "Python 3",
   "language": "python",
   "name": "python3"
  },
  "language_info": {
   "codemirror_mode": {
    "name": "ipython",
    "version": 3
   },
   "file_extension": ".py",
   "mimetype": "text/x-python",
   "name": "python",
   "nbconvert_exporter": "python",
   "pygments_lexer": "ipython3",
   "version": "3.7.0"
  }
 },
 "nbformat": 4,
 "nbformat_minor": 2
}
