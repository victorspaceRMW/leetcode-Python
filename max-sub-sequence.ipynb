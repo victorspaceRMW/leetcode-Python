{
 "cells": [
  {
   "cell_type": "markdown",
   "metadata": {},
   "source": [
    "求最大子列和问题"
   ]
  },
  {
   "cell_type": "markdown",
   "metadata": {},
   "source": [
    "穷举法:求解出序列内所有的和"
   ]
  },
  {
   "cell_type": "code",
   "execution_count": 5,
   "metadata": {},
   "outputs": [
    {
     "name": "stdout",
     "output_type": "stream",
     "text": [
      "6\n"
     ]
    }
   ],
   "source": [
    "def max_subseq1(A):\n",
    "    result=0\n",
    "    length=len(A)\n",
    "    for i in range(length):\n",
    "        for j in range(i,length):\n",
    "            sub_result=0\n",
    "            for k in range(i,j+1):\n",
    "                sub_result=sub_result+A[k]\n",
    "                if (sub_result>result):\n",
    "                    result=sub_result\n",
    "    return result\n",
    "print (max_subseq1([1,2,3,-3]))"
   ]
  },
  {
   "cell_type": "code",
   "execution_count": null,
   "metadata": {},
   "outputs": [],
   "source": [
    "改进的穷举法（两次循环）:求解出序列内所有的和"
   ]
  },
  {
   "cell_type": "code",
   "execution_count": 6,
   "metadata": {},
   "outputs": [
    {
     "name": "stdout",
     "output_type": "stream",
     "text": [
      "6\n"
     ]
    }
   ],
   "source": [
    "def max_subseq2(A):\n",
    "    result=0\n",
    "    length=len(A)\n",
    "    for i in range(length):\n",
    "        sub_result=0\n",
    "        for j in range(i,length):\n",
    "            sub_result=sub_result+A[j]\n",
    "            if (sub_result>result):\n",
    "                result=sub_result\n",
    "    return result\n",
    "print (max_subseq1([1,2,3,-3]))"
   ]
  },
  {
   "cell_type": "markdown",
   "metadata": {},
   "source": [
    "在线处理算法"
   ]
  },
  {
   "cell_type": "code",
   "execution_count": 7,
   "metadata": {},
   "outputs": [
    {
     "name": "stdout",
     "output_type": "stream",
     "text": [
      "6\n"
     ]
    }
   ],
   "source": [
    "def max_subseq4(A):\n",
    "    result=0\n",
    "    sub_result=0\n",
    "    length=len(A)\n",
    "    for i in range(length):\n",
    "        sub_result=sub_result+A[i]\n",
    "        if (sub_result>result):\n",
    "            result=sub_result\n",
    "        elif (sub_result<0):\n",
    "            sub_result=0\n",
    "    return result\n",
    "print (max_subseq1([1,2,3,-3]))    "
   ]
  },
  {
   "cell_type": "markdown",
   "metadata": {},
   "source": [
    "可以用更新为零，替代第二次循环。如果sub_result为零了，那么说明无法向结果contribute，直接更新为零。"
   ]
  }
 ],
 "metadata": {
  "kernelspec": {
   "display_name": "Python 3",
   "language": "python",
   "name": "python3"
  },
  "language_info": {
   "codemirror_mode": {
    "name": "ipython",
    "version": 3
   },
   "file_extension": ".py",
   "mimetype": "text/x-python",
   "name": "python",
   "nbconvert_exporter": "python",
   "pygments_lexer": "ipython3",
   "version": "3.7.3"
  }
 },
 "nbformat": 4,
 "nbformat_minor": 2
}
