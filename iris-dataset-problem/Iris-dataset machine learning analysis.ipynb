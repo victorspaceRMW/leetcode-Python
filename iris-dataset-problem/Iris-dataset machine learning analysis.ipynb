{
 "cells": [
  {
   "cell_type": "markdown",
   "metadata": {},
   "source": [
    "# Iris-dataset machine learning analysis"
   ]
  },
  {
   "cell_type": "markdown",
   "metadata": {},
   "source": [
    "Here, let us show the basic information of the dataset:\n",
    "\n",
    "There are four features: sepal width, sepal length, petal width, petal length.\n",
    "\n",
    "There are three kinds of labels: (0,1,2): setosa, versicolor, virginica\n",
    "\n",
    "Meanwhile, let us import some necessary packages."
   ]
  },
  {
   "cell_type": "code",
   "execution_count": 14,
   "metadata": {},
   "outputs": [
    {
     "name": "stdout",
     "output_type": "stream",
     "text": [
      "{'data': array([[5.1, 3.5, 1.4, 0.2],\n",
      "       [4.9, 3. , 1.4, 0.2],\n",
      "       [4.7, 3.2, 1.3, 0.2],\n",
      "       [4.6, 3.1, 1.5, 0.2],\n",
      "       [5. , 3.6, 1.4, 0.2],\n",
      "       [5.4, 3.9, 1.7, 0.4],\n",
      "       [4.6, 3.4, 1.4, 0.3],\n",
      "       [5. , 3.4, 1.5, 0.2],\n",
      "       [4.4, 2.9, 1.4, 0.2],\n",
      "       [4.9, 3.1, 1.5, 0.1],\n",
      "       [5.4, 3.7, 1.5, 0.2],\n",
      "       [4.8, 3.4, 1.6, 0.2],\n",
      "       [4.8, 3. , 1.4, 0.1],\n",
      "       [4.3, 3. , 1.1, 0.1],\n",
      "       [5.8, 4. , 1.2, 0.2],\n",
      "       [5.7, 4.4, 1.5, 0.4],\n",
      "       [5.4, 3.9, 1.3, 0.4],\n",
      "       [5.1, 3.5, 1.4, 0.3],\n",
      "       [5.7, 3.8, 1.7, 0.3],\n",
      "       [5.1, 3.8, 1.5, 0.3],\n",
      "       [5.4, 3.4, 1.7, 0.2],\n",
      "       [5.1, 3.7, 1.5, 0.4],\n",
      "       [4.6, 3.6, 1. , 0.2],\n",
      "       [5.1, 3.3, 1.7, 0.5],\n",
      "       [4.8, 3.4, 1.9, 0.2],\n",
      "       [5. , 3. , 1.6, 0.2],\n",
      "       [5. , 3.4, 1.6, 0.4],\n",
      "       [5.2, 3.5, 1.5, 0.2],\n",
      "       [5.2, 3.4, 1.4, 0.2],\n",
      "       [4.7, 3.2, 1.6, 0.2],\n",
      "       [4.8, 3.1, 1.6, 0.2],\n",
      "       [5.4, 3.4, 1.5, 0.4],\n",
      "       [5.2, 4.1, 1.5, 0.1],\n",
      "       [5.5, 4.2, 1.4, 0.2],\n",
      "       [4.9, 3.1, 1.5, 0.2],\n",
      "       [5. , 3.2, 1.2, 0.2],\n",
      "       [5.5, 3.5, 1.3, 0.2],\n",
      "       [4.9, 3.6, 1.4, 0.1],\n",
      "       [4.4, 3. , 1.3, 0.2],\n",
      "       [5.1, 3.4, 1.5, 0.2],\n",
      "       [5. , 3.5, 1.3, 0.3],\n",
      "       [4.5, 2.3, 1.3, 0.3],\n",
      "       [4.4, 3.2, 1.3, 0.2],\n",
      "       [5. , 3.5, 1.6, 0.6],\n",
      "       [5.1, 3.8, 1.9, 0.4],\n",
      "       [4.8, 3. , 1.4, 0.3],\n",
      "       [5.1, 3.8, 1.6, 0.2],\n",
      "       [4.6, 3.2, 1.4, 0.2],\n",
      "       [5.3, 3.7, 1.5, 0.2],\n",
      "       [5. , 3.3, 1.4, 0.2],\n",
      "       [7. , 3.2, 4.7, 1.4],\n",
      "       [6.4, 3.2, 4.5, 1.5],\n",
      "       [6.9, 3.1, 4.9, 1.5],\n",
      "       [5.5, 2.3, 4. , 1.3],\n",
      "       [6.5, 2.8, 4.6, 1.5],\n",
      "       [5.7, 2.8, 4.5, 1.3],\n",
      "       [6.3, 3.3, 4.7, 1.6],\n",
      "       [4.9, 2.4, 3.3, 1. ],\n",
      "       [6.6, 2.9, 4.6, 1.3],\n",
      "       [5.2, 2.7, 3.9, 1.4],\n",
      "       [5. , 2. , 3.5, 1. ],\n",
      "       [5.9, 3. , 4.2, 1.5],\n",
      "       [6. , 2.2, 4. , 1. ],\n",
      "       [6.1, 2.9, 4.7, 1.4],\n",
      "       [5.6, 2.9, 3.6, 1.3],\n",
      "       [6.7, 3.1, 4.4, 1.4],\n",
      "       [5.6, 3. , 4.5, 1.5],\n",
      "       [5.8, 2.7, 4.1, 1. ],\n",
      "       [6.2, 2.2, 4.5, 1.5],\n",
      "       [5.6, 2.5, 3.9, 1.1],\n",
      "       [5.9, 3.2, 4.8, 1.8],\n",
      "       [6.1, 2.8, 4. , 1.3],\n",
      "       [6.3, 2.5, 4.9, 1.5],\n",
      "       [6.1, 2.8, 4.7, 1.2],\n",
      "       [6.4, 2.9, 4.3, 1.3],\n",
      "       [6.6, 3. , 4.4, 1.4],\n",
      "       [6.8, 2.8, 4.8, 1.4],\n",
      "       [6.7, 3. , 5. , 1.7],\n",
      "       [6. , 2.9, 4.5, 1.5],\n",
      "       [5.7, 2.6, 3.5, 1. ],\n",
      "       [5.5, 2.4, 3.8, 1.1],\n",
      "       [5.5, 2.4, 3.7, 1. ],\n",
      "       [5.8, 2.7, 3.9, 1.2],\n",
      "       [6. , 2.7, 5.1, 1.6],\n",
      "       [5.4, 3. , 4.5, 1.5],\n",
      "       [6. , 3.4, 4.5, 1.6],\n",
      "       [6.7, 3.1, 4.7, 1.5],\n",
      "       [6.3, 2.3, 4.4, 1.3],\n",
      "       [5.6, 3. , 4.1, 1.3],\n",
      "       [5.5, 2.5, 4. , 1.3],\n",
      "       [5.5, 2.6, 4.4, 1.2],\n",
      "       [6.1, 3. , 4.6, 1.4],\n",
      "       [5.8, 2.6, 4. , 1.2],\n",
      "       [5. , 2.3, 3.3, 1. ],\n",
      "       [5.6, 2.7, 4.2, 1.3],\n",
      "       [5.7, 3. , 4.2, 1.2],\n",
      "       [5.7, 2.9, 4.2, 1.3],\n",
      "       [6.2, 2.9, 4.3, 1.3],\n",
      "       [5.1, 2.5, 3. , 1.1],\n",
      "       [5.7, 2.8, 4.1, 1.3],\n",
      "       [6.3, 3.3, 6. , 2.5],\n",
      "       [5.8, 2.7, 5.1, 1.9],\n",
      "       [7.1, 3. , 5.9, 2.1],\n",
      "       [6.3, 2.9, 5.6, 1.8],\n",
      "       [6.5, 3. , 5.8, 2.2],\n",
      "       [7.6, 3. , 6.6, 2.1],\n",
      "       [4.9, 2.5, 4.5, 1.7],\n",
      "       [7.3, 2.9, 6.3, 1.8],\n",
      "       [6.7, 2.5, 5.8, 1.8],\n",
      "       [7.2, 3.6, 6.1, 2.5],\n",
      "       [6.5, 3.2, 5.1, 2. ],\n",
      "       [6.4, 2.7, 5.3, 1.9],\n",
      "       [6.8, 3. , 5.5, 2.1],\n",
      "       [5.7, 2.5, 5. , 2. ],\n",
      "       [5.8, 2.8, 5.1, 2.4],\n",
      "       [6.4, 3.2, 5.3, 2.3],\n",
      "       [6.5, 3. , 5.5, 1.8],\n",
      "       [7.7, 3.8, 6.7, 2.2],\n",
      "       [7.7, 2.6, 6.9, 2.3],\n",
      "       [6. , 2.2, 5. , 1.5],\n",
      "       [6.9, 3.2, 5.7, 2.3],\n",
      "       [5.6, 2.8, 4.9, 2. ],\n",
      "       [7.7, 2.8, 6.7, 2. ],\n",
      "       [6.3, 2.7, 4.9, 1.8],\n",
      "       [6.7, 3.3, 5.7, 2.1],\n",
      "       [7.2, 3.2, 6. , 1.8],\n",
      "       [6.2, 2.8, 4.8, 1.8],\n",
      "       [6.1, 3. , 4.9, 1.8],\n",
      "       [6.4, 2.8, 5.6, 2.1],\n",
      "       [7.2, 3. , 5.8, 1.6],\n",
      "       [7.4, 2.8, 6.1, 1.9],\n",
      "       [7.9, 3.8, 6.4, 2. ],\n",
      "       [6.4, 2.8, 5.6, 2.2],\n",
      "       [6.3, 2.8, 5.1, 1.5],\n",
      "       [6.1, 2.6, 5.6, 1.4],\n",
      "       [7.7, 3. , 6.1, 2.3],\n",
      "       [6.3, 3.4, 5.6, 2.4],\n",
      "       [6.4, 3.1, 5.5, 1.8],\n",
      "       [6. , 3. , 4.8, 1.8],\n",
      "       [6.9, 3.1, 5.4, 2.1],\n",
      "       [6.7, 3.1, 5.6, 2.4],\n",
      "       [6.9, 3.1, 5.1, 2.3],\n",
      "       [5.8, 2.7, 5.1, 1.9],\n",
      "       [6.8, 3.2, 5.9, 2.3],\n",
      "       [6.7, 3.3, 5.7, 2.5],\n",
      "       [6.7, 3. , 5.2, 2.3],\n",
      "       [6.3, 2.5, 5. , 1.9],\n",
      "       [6.5, 3. , 5.2, 2. ],\n",
      "       [6.2, 3.4, 5.4, 2.3],\n",
      "       [5.9, 3. , 5.1, 1.8]]), 'target': array([0, 0, 0, 0, 0, 0, 0, 0, 0, 0, 0, 0, 0, 0, 0, 0, 0, 0, 0, 0, 0, 0,\n",
      "       0, 0, 0, 0, 0, 0, 0, 0, 0, 0, 0, 0, 0, 0, 0, 0, 0, 0, 0, 0, 0, 0,\n",
      "       0, 0, 0, 0, 0, 0, 1, 1, 1, 1, 1, 1, 1, 1, 1, 1, 1, 1, 1, 1, 1, 1,\n",
      "       1, 1, 1, 1, 1, 1, 1, 1, 1, 1, 1, 1, 1, 1, 1, 1, 1, 1, 1, 1, 1, 1,\n",
      "       1, 1, 1, 1, 1, 1, 1, 1, 1, 1, 1, 1, 2, 2, 2, 2, 2, 2, 2, 2, 2, 2,\n",
      "       2, 2, 2, 2, 2, 2, 2, 2, 2, 2, 2, 2, 2, 2, 2, 2, 2, 2, 2, 2, 2, 2,\n",
      "       2, 2, 2, 2, 2, 2, 2, 2, 2, 2, 2, 2, 2, 2, 2, 2, 2, 2]), 'target_names': array(['setosa', 'versicolor', 'virginica'], dtype='<U10'), 'DESCR': '.. _iris_dataset:\\n\\nIris plants dataset\\n--------------------\\n\\n**Data Set Characteristics:**\\n\\n    :Number of Instances: 150 (50 in each of three classes)\\n    :Number of Attributes: 4 numeric, predictive attributes and the class\\n    :Attribute Information:\\n        - sepal length in cm\\n        - sepal width in cm\\n        - petal length in cm\\n        - petal width in cm\\n        - class:\\n                - Iris-Setosa\\n                - Iris-Versicolour\\n                - Iris-Virginica\\n                \\n    :Summary Statistics:\\n\\n    ============== ==== ==== ======= ===== ====================\\n                    Min  Max   Mean    SD   Class Correlation\\n    ============== ==== ==== ======= ===== ====================\\n    sepal length:   4.3  7.9   5.84   0.83    0.7826\\n    sepal width:    2.0  4.4   3.05   0.43   -0.4194\\n    petal length:   1.0  6.9   3.76   1.76    0.9490  (high!)\\n    petal width:    0.1  2.5   1.20   0.76    0.9565  (high!)\\n    ============== ==== ==== ======= ===== ====================\\n\\n    :Missing Attribute Values: None\\n    :Class Distribution: 33.3% for each of 3 classes.\\n    :Creator: R.A. Fisher\\n    :Donor: Michael Marshall (MARSHALL%PLU@io.arc.nasa.gov)\\n    :Date: July, 1988\\n\\nThe famous Iris database, first used by Sir R.A. Fisher. The dataset is taken\\nfrom Fisher\\'s paper. Note that it\\'s the same as in R, but not as in the UCI\\nMachine Learning Repository, which has two wrong data points.\\n\\nThis is perhaps the best known database to be found in the\\npattern recognition literature.  Fisher\\'s paper is a classic in the field and\\nis referenced frequently to this day.  (See Duda & Hart, for example.)  The\\ndata set contains 3 classes of 50 instances each, where each class refers to a\\ntype of iris plant.  One class is linearly separable from the other 2; the\\nlatter are NOT linearly separable from each other.\\n\\n.. topic:: References\\n\\n   - Fisher, R.A. \"The use of multiple measurements in taxonomic problems\"\\n     Annual Eugenics, 7, Part II, 179-188 (1936); also in \"Contributions to\\n     Mathematical Statistics\" (John Wiley, NY, 1950).\\n   - Duda, R.O., & Hart, P.E. (1973) Pattern Classification and Scene Analysis.\\n     (Q327.D83) John Wiley & Sons.  ISBN 0-471-22361-1.  See page 218.\\n   - Dasarathy, B.V. (1980) \"Nosing Around the Neighborhood: A New System\\n     Structure and Classification Rule for Recognition in Partially Exposed\\n     Environments\".  IEEE Transactions on Pattern Analysis and Machine\\n     Intelligence, Vol. PAMI-2, No. 1, 67-71.\\n   - Gates, G.W. (1972) \"The Reduced Nearest Neighbor Rule\".  IEEE Transactions\\n     on Information Theory, May 1972, 431-433.\\n   - See also: 1988 MLC Proceedings, 54-64.  Cheeseman et al\"s AUTOCLASS II\\n     conceptual clustering system finds 3 classes in the data.\\n   - Many, many more ...', 'feature_names': ['sepal length (cm)', 'sepal width (cm)', 'petal length (cm)', 'petal width (cm)'], 'filename': 'F:\\\\anaconda2\\\\lib\\\\site-packages\\\\sklearn\\\\datasets\\\\data\\\\iris.csv'}\n"
     ]
    }
   ],
   "source": [
    "import numpy as np\n",
    "import pandas as pd\n",
    "import matplotlib.pyplot as plt\n",
    "import seaborn as sns\n",
    "\n",
    "from sklearn.datasets import load_iris\n",
    "iris_orig=load_iris()\n",
    "print (iris_orig)\n",
    "\n",
    "x=pd.DataFrame(iris_orig.data)\n",
    "y=pd.Series(iris_orig.target)"
   ]
  },
  {
   "cell_type": "markdown",
   "metadata": {},
   "source": [
    "And here, let us start the data-visualization. Here we will compose an \"iris dataset\" for the data-visualization."
   ]
  },
  {
   "cell_type": "code",
   "execution_count": 15,
   "metadata": {},
   "outputs": [
    {
     "name": "stdout",
     "output_type": "stream",
     "text": [
      "     sepal width  sepal length  petal width  petal length  species\n",
      "0            5.1           3.5          1.4           0.2        0\n",
      "1            4.9           3.0          1.4           0.2        0\n",
      "2            4.7           3.2          1.3           0.2        0\n",
      "3            4.6           3.1          1.5           0.2        0\n",
      "4            5.0           3.6          1.4           0.2        0\n",
      "5            5.4           3.9          1.7           0.4        0\n",
      "6            4.6           3.4          1.4           0.3        0\n",
      "7            5.0           3.4          1.5           0.2        0\n",
      "8            4.4           2.9          1.4           0.2        0\n",
      "9            4.9           3.1          1.5           0.1        0\n",
      "10           5.4           3.7          1.5           0.2        0\n",
      "11           4.8           3.4          1.6           0.2        0\n",
      "12           4.8           3.0          1.4           0.1        0\n",
      "13           4.3           3.0          1.1           0.1        0\n",
      "14           5.8           4.0          1.2           0.2        0\n",
      "15           5.7           4.4          1.5           0.4        0\n",
      "16           5.4           3.9          1.3           0.4        0\n",
      "17           5.1           3.5          1.4           0.3        0\n",
      "18           5.7           3.8          1.7           0.3        0\n",
      "19           5.1           3.8          1.5           0.3        0\n",
      "20           5.4           3.4          1.7           0.2        0\n",
      "21           5.1           3.7          1.5           0.4        0\n",
      "22           4.6           3.6          1.0           0.2        0\n",
      "23           5.1           3.3          1.7           0.5        0\n",
      "24           4.8           3.4          1.9           0.2        0\n",
      "25           5.0           3.0          1.6           0.2        0\n",
      "26           5.0           3.4          1.6           0.4        0\n",
      "27           5.2           3.5          1.5           0.2        0\n",
      "28           5.2           3.4          1.4           0.2        0\n",
      "29           4.7           3.2          1.6           0.2        0\n",
      "..           ...           ...          ...           ...      ...\n",
      "120          6.9           3.2          5.7           2.3        2\n",
      "121          5.6           2.8          4.9           2.0        2\n",
      "122          7.7           2.8          6.7           2.0        2\n",
      "123          6.3           2.7          4.9           1.8        2\n",
      "124          6.7           3.3          5.7           2.1        2\n",
      "125          7.2           3.2          6.0           1.8        2\n",
      "126          6.2           2.8          4.8           1.8        2\n",
      "127          6.1           3.0          4.9           1.8        2\n",
      "128          6.4           2.8          5.6           2.1        2\n",
      "129          7.2           3.0          5.8           1.6        2\n",
      "130          7.4           2.8          6.1           1.9        2\n",
      "131          7.9           3.8          6.4           2.0        2\n",
      "132          6.4           2.8          5.6           2.2        2\n",
      "133          6.3           2.8          5.1           1.5        2\n",
      "134          6.1           2.6          5.6           1.4        2\n",
      "135          7.7           3.0          6.1           2.3        2\n",
      "136          6.3           3.4          5.6           2.4        2\n",
      "137          6.4           3.1          5.5           1.8        2\n",
      "138          6.0           3.0          4.8           1.8        2\n",
      "139          6.9           3.1          5.4           2.1        2\n",
      "140          6.7           3.1          5.6           2.4        2\n",
      "141          6.9           3.1          5.1           2.3        2\n",
      "142          5.8           2.7          5.1           1.9        2\n",
      "143          6.8           3.2          5.9           2.3        2\n",
      "144          6.7           3.3          5.7           2.5        2\n",
      "145          6.7           3.0          5.2           2.3        2\n",
      "146          6.3           2.5          5.0           1.9        2\n",
      "147          6.5           3.0          5.2           2.0        2\n",
      "148          6.2           3.4          5.4           2.3        2\n",
      "149          5.9           3.0          5.1           1.8        2\n",
      "\n",
      "[150 rows x 5 columns]\n"
     ]
    }
   ],
   "source": [
    "#print (x)\n",
    "#print (y)\n",
    "iris=pd.concat([x,y],axis=1)\n",
    "iris.columns=[\"sepal width\", \"sepal length\", \"petal width\", \"petal length\", \"species\"]\n",
    "print (iris)"
   ]
  },
  {
   "cell_type": "code",
   "execution_count": 17,
   "metadata": {},
   "outputs": [
    {
     "data": {
      "image/png": "[encoded data removed]",
      "text/plain": [
       "<Figure size 945.375x900 with 30 Axes>"
      ]
     },
     "metadata": {
      "needs_background": "light"
     },
     "output_type": "display_data"
    }
   ],
   "source": [
    "g = sns.PairGrid(iris, hue=\"species\")\n",
    "g.map_diag(plt.hist)\n",
    "g.map_offdiag(plt.scatter)\n",
    "g.add_legend()\n",
    "\n",
    "# Lets explicitly set the axes limits\n",
    "axes = g.axes\n",
    "\n",
    "lim = [(3, 9), (1.5, 5), (-2, 10), (-1, 3.5)]\n",
    "\n",
    "for i in range(len(lim)):\n",
    "    for j in range(len(lim)):\n",
    "        axes[i, j].set_xlim(lim[j])\n",
    "        axes[i, j].set_ylim(lim[i])"
   ]
  },
  {
   "cell_type": "markdown",
   "metadata": {},
   "source": [
    "## Supervised learning "
   ]
  },
  {
   "cell_type": "markdown",
   "metadata": {},
   "source": [
    "Here, let us introduce some machine learning algorithms. We will first divide the dataset into a training set, and then test the learned algorithm on test dataset(You will be amazed by how accurate it is!). \n",
    "\n",
    "There are two datasets. First that is the dataset to be trained. Second, it is the dataset that never get trained, only get tested. You will soon realize that the machine learning algorithms really works!\n",
    "\n",
    "In this "
   ]
  },
  {
   "cell_type": "code",
   "execution_count": 18,
   "metadata": {},
   "outputs": [
    {
     "name": "stdout",
     "output_type": "stream",
     "text": [
      "       0    1    2    3\n",
      "22   4.6  3.6  1.0  0.2\n",
      "15   5.7  4.4  1.5  0.4\n",
      "65   6.7  3.1  4.4  1.4\n",
      "11   4.8  3.4  1.6  0.2\n",
      "42   4.4  3.2  1.3  0.2\n",
      "146  6.3  2.5  5.0  1.9\n",
      "51   6.4  3.2  4.5  1.5\n",
      "27   5.2  3.5  1.5  0.2\n",
      "4    5.0  3.6  1.4  0.2\n",
      "32   5.2  4.1  1.5  0.1\n",
      "142  5.8  2.7  5.1  1.9\n",
      "85   6.0  3.4  4.5  1.6\n",
      "86   6.7  3.1  4.7  1.5\n",
      "16   5.4  3.9  1.3  0.4\n",
      "10   5.4  3.7  1.5  0.2\n",
      "81   5.5  2.4  3.7  1.0\n",
      "133  6.3  2.8  5.1  1.5\n",
      "137  6.4  3.1  5.5  1.8\n",
      "75   6.6  3.0  4.4  1.4\n",
      "109  7.2  3.6  6.1  2.5\n",
      "96   5.7  2.9  4.2  1.3\n",
      "105  7.6  3.0  6.6  2.1\n",
      "66   5.6  3.0  4.5  1.5\n",
      "0    5.1  3.5  1.4  0.2\n",
      "122  7.7  2.8  6.7  2.0\n",
      "67   5.8  2.7  4.1  1.0\n",
      "28   5.2  3.4  1.4  0.2\n",
      "40   5.0  3.5  1.3  0.3\n",
      "44   5.1  3.8  1.9  0.4\n",
      "60   5.0  2.0  3.5  1.0\n",
      "..   ...  ...  ...  ...\n",
      "91   6.1  3.0  4.6  1.4\n",
      "41   4.5  2.3  1.3  0.3\n",
      "58   6.6  2.9  4.6  1.3\n",
      "90   5.5  2.6  4.4  1.2\n",
      "48   5.3  3.7  1.5  0.2\n",
      "88   5.6  3.0  4.1  1.3\n",
      "107  7.3  2.9  6.3  1.8\n",
      "124  6.7  3.3  5.7  2.1\n",
      "21   5.1  3.7  1.5  0.4\n",
      "57   4.9  2.4  3.3  1.0\n",
      "144  6.7  3.3  5.7  2.5\n",
      "129  7.2  3.0  5.8  1.6\n",
      "37   4.9  3.6  1.4  0.1\n",
      "140  6.7  3.1  5.6  2.4\n",
      "1    4.9  3.0  1.4  0.2\n",
      "52   6.9  3.1  4.9  1.5\n",
      "130  7.4  2.8  6.1  1.9\n",
      "103  6.3  2.9  5.6  1.8\n",
      "99   5.7  2.8  4.1  1.3\n",
      "116  6.5  3.0  5.5  1.8\n",
      "87   6.3  2.3  4.4  1.3\n",
      "74   6.4  2.9  4.3  1.3\n",
      "121  5.6  2.8  4.9  2.0\n",
      "149  5.9  3.0  5.1  1.8\n",
      "20   5.4  3.4  1.7  0.2\n",
      "71   6.1  2.8  4.0  1.3\n",
      "106  4.9  2.5  4.5  1.7\n",
      "14   5.8  4.0  1.2  0.2\n",
      "92   5.8  2.6  4.0  1.2\n",
      "102  7.1  3.0  5.9  2.1\n",
      "\n",
      "[120 rows x 4 columns]\n",
      "73     1\n",
      "18     0\n",
      "118    2\n",
      "78     1\n",
      "76     1\n",
      "31     0\n",
      "64     1\n",
      "141    2\n",
      "68     1\n",
      "82     1\n",
      "110    2\n",
      "12     0\n",
      "36     0\n",
      "9      0\n",
      "19     0\n",
      "56     1\n",
      "104    2\n",
      "69     1\n",
      "55     1\n",
      "132    2\n",
      "29     0\n",
      "127    2\n",
      "26     0\n",
      "128    2\n",
      "131    2\n",
      "145    2\n",
      "108    2\n",
      "143    2\n",
      "45     0\n",
      "30     0\n",
      "dtype: int32\n"
     ]
    }
   ],
   "source": [
    "from sklearn.model_selection import train_test_split\n",
    "x_train, x_test, y_train, y_test = train_test_split(x, y, test_size=0.2, random_state=42)"
   ]
  },
  {
   "cell_type": "markdown",
   "metadata": {},
   "source": [
    "### KNN "
   ]
  },
  {
   "cell_type": "code",
   "execution_count": 23,
   "metadata": {},
   "outputs": [
    {
     "name": "stdout",
     "output_type": "stream",
     "text": [
      "              precision    recall  f1-score   support\n",
      "\n",
      "           0       1.00      1.00      1.00        10\n",
      "           1       1.00      1.00      1.00         9\n",
      "           2       1.00      1.00      1.00        11\n",
      "\n",
      "   micro avg       1.00      1.00      1.00        30\n",
      "   macro avg       1.00      1.00      1.00        30\n",
      "weighted avg       1.00      1.00      1.00        30\n",
      "\n"
     ]
    }
   ],
   "source": [
    "from sklearn import neighbors\n",
    "from sklearn.metrics import classification_report\n",
    "knn = neighbors.KNeighborsClassifier(n_neighbors=5)\n",
    "knn.fit(x_train, y_train)\n",
    "y_predict = knn.predict(x_test)\n",
    "print (classification_report(y_test,y_predict))"
   ]
  },
  {
   "cell_type": "markdown",
   "metadata": {},
   "source": [
    "I know the above result is so unclear for you. So I write "
   ]
  },
  {
   "cell_type": "code",
   "execution_count": 25,
   "metadata": {},
   "outputs": [
    {
     "data": {
      "image/png": "[encoded data removed]",
      "text/plain": [
       "<Figure size 432x288 with 2 Axes>"
      ]
     },
     "metadata": {
      "needs_background": "light"
     },
     "output_type": "display_data"
    }
   ],
   "source": [
    "def confusion(test, predict, title):\n",
    "    # Define names for the three Iris types\n",
    "    names = ['setosa', 'versicolor', 'virginica']\n",
    "\n",
    "    # Make a 2D histogram from the test and result arrays\n",
    "    pts, xe, ye = np.histogram2d(test, predict, bins=3)\n",
    "\n",
    "    # For simplicity we create a new DataFrame\n",
    "    pd_pts = pd.DataFrame(pts.astype(int), index=names, columns=names )\n",
    "    \n",
    "    # Display heatmap and add decorations\n",
    "    hm = sns.heatmap(pd_pts, annot=True, fmt=\"d\")\n",
    "    hm.axes.set_title(title)\n",
    "    \n",
    "    return None\n",
    "confusion(y_test,y_predict,\"KNN\")"
   ]
  },
  {
   "cell_type": "markdown",
   "metadata": {},
   "source": [
    "### SVM "
   ]
  },
  {
   "cell_type": "code",
   "execution_count": 28,
   "metadata": {},
   "outputs": [
    {
     "name": "stdout",
     "output_type": "stream",
     "text": [
      "              precision    recall  f1-score   support\n",
      "\n",
      "           0       1.00      1.00      1.00        10\n",
      "           1       1.00      1.00      1.00         9\n",
      "           2       1.00      1.00      1.00        11\n",
      "\n",
      "   micro avg       1.00      1.00      1.00        30\n",
      "   macro avg       1.00      1.00      1.00        30\n",
      "weighted avg       1.00      1.00      1.00        30\n",
      "\n"
     ]
    }
   ],
   "source": [
    "from sklearn.svm import SVC\n",
    "clf=SVC(kernel=\"linear\",C=1)\n",
    "clf.fit(x_train,y_train)\n",
    "y_predict = clf.predict(x_test)\n",
    "print (classification_report(y_test,y_predict))\n",
    "#confusion(y_test,y_predict,\"SVM\")"
   ]
  },
  {
   "cell_type": "code",
   "execution_count": 29,
   "metadata": {},
   "outputs": [
    {
     "data": {
      "image/png": "[encoded data removed]",
      "text/plain": [
       "<Figure size 432x288 with 2 Axes>"
      ]
     },
     "metadata": {
      "needs_background": "light"
     },
     "output_type": "display_data"
    }
   ],
   "source": [
    "confusion(y_test,y_predict,\"SVM\")"
   ]
  },
  {
   "cell_type": "markdown",
   "metadata": {},
   "source": [
    "You may test with other supervised learning algorithms like decision tree, linear regression, etc. That is the homework."
   ]
  },
  {
   "cell_type": "markdown",
   "metadata": {},
   "source": [
    "## Unsupervised learning"
   ]
  },
  {
   "cell_type": "markdown",
   "metadata": {},
   "source": [
    "### PCA "
   ]
  },
  {
   "cell_type": "code",
   "execution_count": 42,
   "metadata": {},
   "outputs": [
    {
     "name": "stdout",
     "output_type": "stream",
     "text": [
      "            0         1\n",
      "0   -2.684126  0.319397\n",
      "1   -2.714142 -0.177001\n",
      "2   -2.888991 -0.144949\n",
      "3   -2.745343 -0.318299\n",
      "4   -2.728717  0.326755\n",
      "5   -2.280860  0.741330\n",
      "6   -2.820538 -0.089461\n",
      "7   -2.626145  0.163385\n",
      "8   -2.886383 -0.578312\n",
      "9   -2.672756 -0.113774\n",
      "10  -2.506947  0.645069\n",
      "11  -2.612755  0.014730\n",
      "12  -2.786109 -0.235112\n",
      "13  -3.223804 -0.511395\n",
      "14  -2.644750  1.178765\n",
      "15  -2.386039  1.338062\n",
      "16  -2.623528  0.810680\n",
      "17  -2.648297  0.311849\n",
      "18  -2.199820  0.872839\n",
      "19  -2.587986  0.513560\n",
      "20  -2.310256  0.391346\n",
      "21  -2.543705  0.432996\n",
      "22  -3.215939  0.133468\n",
      "23  -2.302733  0.098709\n",
      "24  -2.355754 -0.037282\n",
      "25  -2.506669 -0.146017\n",
      "26  -2.468820  0.130951\n",
      "27  -2.562320  0.367719\n",
      "28  -2.639535  0.312040\n",
      "29  -2.631989 -0.196961\n",
      "..        ...       ...\n",
      "120  2.427818  0.378196\n",
      "121  1.199001 -0.606092\n",
      "122  3.499920  0.460674\n",
      "123  1.388766 -0.204399\n",
      "124  2.275431  0.334991\n",
      "125  2.614090  0.560901\n",
      "126  1.258508 -0.179705\n",
      "127  1.291132 -0.116669\n",
      "128  2.123609 -0.209729\n",
      "129  2.388003  0.464640\n",
      "130  2.841673  0.375269\n",
      "131  3.230674  1.374165\n",
      "132  2.159438 -0.217278\n",
      "133  1.444161 -0.143413\n",
      "134  1.781295 -0.499902\n",
      "135  3.076500  0.688086\n",
      "136  2.144243  0.140064\n",
      "137  1.905098  0.049301\n",
      "138  1.169326 -0.164990\n",
      "139  2.107611  0.372288\n",
      "140  2.314155  0.183651\n",
      "141  1.922268  0.409203\n",
      "142  1.415236 -0.574916\n",
      "143  2.563013  0.277863\n",
      "144  2.418746  0.304798\n",
      "145  1.944110  0.187532\n",
      "146  1.527167 -0.375317\n",
      "147  1.764346  0.078859\n",
      "148  1.900942  0.116628\n",
      "149  1.390189 -0.282661\n",
      "\n",
      "[150 rows x 2 columns]\n"
     ]
    }
   ],
   "source": [
    "from sklearn.decomposition import PCA\n",
    "pca = PCA(n_components=2)\n",
    "pca.fit(x)\n",
    "data_reduced = pca.transform(x)\n",
    "data_reduced2=pd.DataFrame(data_reduced)\n",
    "print (data_reduced2)\n",
    "data_reduced3=pd.concat([data_reduced2,y],axis=1)"
   ]
  },
  {
   "cell_type": "markdown",
   "metadata": {},
   "source": [
    "### Clustering"
   ]
  },
  {
   "cell_type": "code",
   "execution_count": 56,
   "metadata": {},
   "outputs": [
    {
     "name": "stdout",
     "output_type": "stream",
     "text": [
      "[0 0 0 0 0 0 0 0 0 0 0 0 0 0 0 0 0 0 0 0 0 0 0 0 0 0 0 0 0 0 0 0 0 0 0 0 0\n",
      " 0 0 0 0 0 0 0 0 0 0 0 0 0 2 2 2 2 2 2 2 2 2 2 2 2 2 2 2 2 2 2 2 2 2 2 2 2\n",
      " 2 2 2 1 2 2 2 2 2 2 2 2 2 2 2 2 2 2 2 2 2 2 2 2 2 2 1 1 1 1 1 1 2 1 1 1 1\n",
      " 1 1 1 1 1 1 1 1 1 1 1 1 1 1 1 1 1 1 1 1 1 1 1 1 1 1 1 1 1 1 1 1 1 1 1 1 1\n",
      " 1 1]\n",
      "0      0\n",
      "1      0\n",
      "2      0\n",
      "3      0\n",
      "4      0\n",
      "5      0\n",
      "6      0\n",
      "7      0\n",
      "8      0\n",
      "9      0\n",
      "10     0\n",
      "11     0\n",
      "12     0\n",
      "13     0\n",
      "14     0\n",
      "15     0\n",
      "16     0\n",
      "17     0\n",
      "18     0\n",
      "19     0\n",
      "20     0\n",
      "21     0\n",
      "22     0\n",
      "23     0\n",
      "24     0\n",
      "25     0\n",
      "26     0\n",
      "27     0\n",
      "28     0\n",
      "29     0\n",
      "      ..\n",
      "120    2\n",
      "121    2\n",
      "122    2\n",
      "123    2\n",
      "124    2\n",
      "125    2\n",
      "126    2\n",
      "127    2\n",
      "128    2\n",
      "129    2\n",
      "130    2\n",
      "131    2\n",
      "132    2\n",
      "133    2\n",
      "134    2\n",
      "135    2\n",
      "136    2\n",
      "137    2\n",
      "138    2\n",
      "139    2\n",
      "140    2\n",
      "141    2\n",
      "142    2\n",
      "143    2\n",
      "144    2\n",
      "145    2\n",
      "146    2\n",
      "147    2\n",
      "148    2\n",
      "149    2\n",
      "Length: 150, dtype: int32\n"
     ]
    }
   ],
   "source": [
    "from sklearn.cluster import KMeans\n",
    "k_means = KMeans(n_clusters=3, random_state=0)\n",
    "k_means.fit(data_reduced3)\n",
    "y_pred = k_means.predict(data_reduced3)\n",
    "print (y_pred)\n",
    "print (y)"
   ]
  },
  {
   "cell_type": "code",
   "execution_count": 57,
   "metadata": {},
   "outputs": [
    {
     "name": "stdout",
     "output_type": "stream",
     "text": [
      "              precision    recall  f1-score   support\n",
      "\n",
      "           0       1.00      1.00      1.00        50\n",
      "           1       0.02      0.02      0.02        50\n",
      "           2       0.02      0.02      0.02        50\n",
      "\n",
      "   micro avg       0.35      0.35      0.35       150\n",
      "   macro avg       0.35      0.35      0.35       150\n",
      "weighted avg       0.35      0.35      0.35       150\n",
      "\n"
     ]
    }
   ],
   "source": [
    "print (classification_report(y,y_pred))"
   ]
  },
  {
   "cell_type": "code",
   "execution_count": 59,
   "metadata": {},
   "outputs": [
    {
     "data": {
      "image/png": "[encoded data removed]",
      "text/plain": [
       "<Figure size 432x288 with 2 Axes>"
      ]
     },
     "metadata": {
      "needs_background": "light"
     },
     "output_type": "display_data"
    }
   ],
   "source": [
    "confusion(y,y_pred,\"K-means\")"
   ]
  },
  {
   "cell_type": "code",
   "execution_count": null,
   "metadata": {},
   "outputs": [],
   "source": []
  }
 ],
 "metadata": {
  "kernelspec": {
   "display_name": "Python 3",
   "language": "python",
   "name": "python3"
  },
  "language_info": {
   "codemirror_mode": {
    "name": "ipython",
    "version": 3
   },
   "file_extension": ".py",
   "mimetype": "text/x-python",
   "name": "python",
   "nbconvert_exporter": "python",
   "pygments_lexer": "ipython3",
   "version": "3.7.3"
  }
 },
 "nbformat": 4,
 "nbformat_minor": 2
}
